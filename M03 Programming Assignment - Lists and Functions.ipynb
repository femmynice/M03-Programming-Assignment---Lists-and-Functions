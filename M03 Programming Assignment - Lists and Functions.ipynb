{
 "cells": [
  {
   "cell_type": "code",
   "execution_count": 1,
   "id": "81000aa2-b177-4387-b8a5-79eaf81b9df5",
   "metadata": {},
   "outputs": [],
   "source": [
    ">>> years_list=[1997,1998,1999,2000,2001]"
   ]
  },
  {
   "cell_type": "code",
   "execution_count": 2,
   "id": "85911679-d9b2-44e6-98b8-3a892a6e5024",
   "metadata": {},
   "outputs": [],
   "source": [
    ">>> years_list=[1997,1998,1999,2000,2001]"
   ]
  },
  {
   "cell_type": "code",
   "execution_count": 3,
   "id": "f1538ad9-e2dd-4a79-9e41-ac639c60af01",
   "metadata": {},
   "outputs": [
    {
     "data": {
      "text/plain": [
       "[1997, 1998, 1999, 2000, 2001]"
      ]
     },
     "execution_count": 3,
     "metadata": {},
     "output_type": "execute_result"
    }
   ],
   "source": [
    "[1997, 1998, 1999, 2000, 2001]\n"
   ]
  },
  {
   "cell_type": "code",
   "execution_count": 4,
   "id": "d80d9927-f5a2-4703-9798-f49df3c67365",
   "metadata": {},
   "outputs": [
    {
     "data": {
      "text/plain": [
       "2000"
      ]
     },
     "execution_count": 4,
     "metadata": {},
     "output_type": "execute_result"
    }
   ],
   "source": [
    ">>> years_list[3]"
   ]
  },
  {
   "cell_type": "code",
   "execution_count": 5,
   "id": "d74f72e2-68df-46d3-9271-d4edb3d5fc15",
   "metadata": {},
   "outputs": [
    {
     "data": {
      "text/plain": [
       "2001"
      ]
     },
     "execution_count": 5,
     "metadata": {},
     "output_type": "execute_result"
    }
   ],
   "source": [
    ">>> years_list[-1]"
   ]
  },
  {
   "cell_type": "code",
   "execution_count": 6,
   "id": "124aa992-333a-45ab-8cc2-d66e54edf8f5",
   "metadata": {},
   "outputs": [],
   "source": [
    ">>> things=['mozzarella','cinderella','salmonella']\n"
   ]
  },
  {
   "cell_type": "code",
   "execution_count": 7,
   "id": "1e4fad0a-91f8-4587-bf34-5ecad8402ed2",
   "metadata": {},
   "outputs": [
    {
     "data": {
      "text/plain": [
       "['mozzarella', 'cinderella', 'salmonella']"
      ]
     },
     "execution_count": 7,
     "metadata": {},
     "output_type": "execute_result"
    }
   ],
   "source": [
    ">>> things\n"
   ]
  },
  {
   "cell_type": "code",
   "execution_count": 8,
   "id": "5224c908-f61b-4dee-99a5-a94b28ff3d69",
   "metadata": {},
   "outputs": [],
   "source": [
    ">>> new_list=things.copy()\n"
   ]
  },
  {
   "cell_type": "code",
   "execution_count": 9,
   "id": "7e460193-0740-48da-9f37-82ec0397678e",
   "metadata": {},
   "outputs": [
    {
     "data": {
      "text/plain": [
       "['mozzarella', 'cinderella', 'salmonella']"
      ]
     },
     "execution_count": 9,
     "metadata": {},
     "output_type": "execute_result"
    }
   ],
   "source": [
    ">>> new_list"
   ]
  },
  {
   "cell_type": "code",
   "execution_count": 10,
   "id": "03a4886f-e2d8-44db-b4e2-e18f42f83915",
   "metadata": {},
   "outputs": [
    {
     "data": {
      "text/plain": [
       "'Salmonella'"
      ]
     },
     "execution_count": 10,
     "metadata": {},
     "output_type": "execute_result"
    }
   ],
   "source": [
    ">>> new_list[2].capitalize()\n"
   ]
  },
  {
   "cell_type": "code",
   "execution_count": 11,
   "id": "3bc8a09b-761a-4368-92f0-1764a4f2242f",
   "metadata": {},
   "outputs": [
    {
     "data": {
      "text/plain": [
       "['mozzarella', 'cinderella', 'salmonella']"
      ]
     },
     "execution_count": 11,
     "metadata": {},
     "output_type": "execute_result"
    }
   ],
   "source": [
    ">>> new_list\n"
   ]
  },
  {
   "cell_type": "code",
   "execution_count": 12,
   "id": "2a780e70-9aa3-4903-bfaa-1bdd035e42bc",
   "metadata": {},
   "outputs": [
    {
     "ename": "SyntaxError",
     "evalue": "invalid syntax (1337907118.py, line 1)",
     "output_type": "error",
     "traceback": [
      "\u001b[1;36m  Cell \u001b[1;32mIn[12], line 1\u001b[1;36m\u001b[0m\n\u001b[1;33m    >>>things= [element.upper() for element in things] ;\u001b[0m\n\u001b[1;37m    ^\u001b[0m\n\u001b[1;31mSyntaxError\u001b[0m\u001b[1;31m:\u001b[0m invalid syntax\n"
     ]
    }
   ],
   "source": [
    ">>>things= [element.upper() for element in things] ;\n"
   ]
  },
  {
   "cell_type": "code",
   "execution_count": 13,
   "id": "aab251df-321c-42f3-8253-44263119ed31",
   "metadata": {},
   "outputs": [
    {
     "name": "stdout",
     "output_type": "stream",
     "text": [
      "['mozzarella', 'cinderella', 'salmonella']\n"
     ]
    }
   ],
   "source": [
    ">>> print(things)"
   ]
  },
  {
   "cell_type": "code",
   "execution_count": 14,
   "id": "9854c008-045e-4726-a29c-da1bcf4b02d7",
   "metadata": {},
   "outputs": [],
   "source": [
    ">>> things.remove(\"cinderella\")"
   ]
  },
  {
   "cell_type": "code",
   "execution_count": 15,
   "id": "fe9f383e-e6bf-41c0-b2d4-33ec8e4a7d48",
   "metadata": {},
   "outputs": [
    {
     "data": {
      "text/plain": [
       "['mozzarella', 'salmonella']"
      ]
     },
     "execution_count": 15,
     "metadata": {},
     "output_type": "execute_result"
    }
   ],
   "source": [
    ">>> things"
   ]
  },
  {
   "cell_type": "code",
   "execution_count": null,
   "id": "50a18f3c-3708-4805-9abc-43fd53211a4b",
   "metadata": {},
   "outputs": [],
   "source": []
  },
  {
   "cell_type": "code",
   "execution_count": null,
   "id": "14db2b0f-d134-4bf1-ace2-487e2c51c202",
   "metadata": {},
   "outputs": [],
   "source": []
  },
  {
   "cell_type": "code",
   "execution_count": 16,
   "id": "986139eb-2726-40e6-b8ab-15c3ffdd5446",
   "metadata": {},
   "outputs": [
    {
     "ename": "SyntaxError",
     "evalue": "incomplete input (1210341416.py, line 1)",
     "output_type": "error",
     "traceback": [
      "\u001b[1;36m  Cell \u001b[1;32mIn[16], line 1\u001b[1;36m\u001b[0m\n\u001b[1;33m    def good():\u001b[0m\n\u001b[1;37m               ^\u001b[0m\n\u001b[1;31mSyntaxError\u001b[0m\u001b[1;31m:\u001b[0m incomplete input\n"
     ]
    }
   ],
   "source": [
    "def good():"
   ]
  },
  {
   "cell_type": "code",
   "execution_count": null,
   "id": "481ab1f6-a7b8-4d44-af72-ad25991d5800",
   "metadata": {},
   "outputs": [],
   "source": [
    "return ['Harry', 'Ron', 'Hermione']"
   ]
  },
  {
   "cell_type": "code",
   "execution_count": null,
   "id": "13991851-ba03-4d44-950f-dca351e2034d",
   "metadata": {},
   "outputs": [],
   "source": [
    "def get_odds():"
   ]
  },
  {
   "cell_type": "code",
   "execution_count": null,
   "id": "cb65bdd4-9e08-4109-a51a-47f2cda7d4c8",
   "metadata": {},
   "outputs": [],
   "source": [
    "for number in range(1, 10, 2):"
   ]
  },
  {
   "cell_type": "code",
   "execution_count": null,
   "id": "b5ccadd5-636b-46be-9384-e7354d8d4106",
   "metadata": {},
   "outputs": [],
   "source": [
    " yield number"
   ]
  },
  {
   "cell_type": "code",
   "execution_count": null,
   "id": "bb4eed02-1525-430e-9004-be514a3c0c24",
   "metadata": {},
   "outputs": [],
   "source": [
    "# use for loop to find the third value"
   ]
  },
  {
   "cell_type": "code",
   "execution_count": null,
   "id": "598b7400-da2b-4ea5-9224-c075293f7c23",
   "metadata": {},
   "outputs": [],
   "source": [
    "for i, number in enumerate(get_odds()):"
   ]
  },
  {
   "cell_type": "code",
   "execution_count": null,
   "id": "e91f70ee-4c20-46bf-9daf-93dc2e0c3a08",
   "metadata": {},
   "outputs": [],
   "source": [
    " if i == 2:"
   ]
  },
  {
   "cell_type": "code",
   "execution_count": null,
   "id": "f01d12f2-bc4f-4090-972b-543a453f2f27",
   "metadata": {},
   "outputs": [],
   "source": [
    " print(number)"
   ]
  },
  {
   "cell_type": "code",
   "execution_count": null,
   "id": "f79af6a6-3627-4c38-8cb7-04b3533e0227",
   "metadata": {},
   "outputs": [],
   "source": [
    "  break"
   ]
  }
 ],
 "metadata": {
  "kernelspec": {
   "display_name": "Python 3 (ipykernel)",
   "language": "python",
   "name": "python3"
  },
  "language_info": {
   "codemirror_mode": {
    "name": "ipython",
    "version": 3
   },
   "file_extension": ".py",
   "mimetype": "text/x-python",
   "name": "python",
   "nbconvert_exporter": "python",
   "pygments_lexer": "ipython3",
   "version": "3.11.7"
  }
 },
 "nbformat": 4,
 "nbformat_minor": 5
}
